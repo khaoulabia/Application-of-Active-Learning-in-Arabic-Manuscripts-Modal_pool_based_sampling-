{
 "cells": [
  {
   "cell_type": "code",
   "execution_count": 14,
   "id": "603d1a11",
   "metadata": {},
   "outputs": [],
   "source": [
    "import pandas as pd\n",
    "import numpy as np\n",
    "from modAL.models import ActiveLearner\n",
    "from modAL.uncertainty import uncertainty_sampling\n",
    "from sklearn.ensemble import RandomForestClassifier\n",
    "from sklearn.model_selection import train_test_split\n",
    "import matplotlib.pyplot as plt\n",
    "import matplotlib as mpl\n",
    "from sklearn.metrics import f1_score, confusion_matrix, classification_report \n",
    "from sklearn.model_selection import learning_curve "
   ]
  },
  {
   "cell_type": "markdown",
   "id": "9df48356",
   "metadata": {},
   "source": [
    "# 1.Import images"
   ]
  },
  {
   "cell_type": "code",
   "execution_count": 15,
   "id": "4856106e",
   "metadata": {},
   "outputs": [
    {
     "name": "stdout",
     "output_type": "stream",
     "text": [
      "[['0.058824' '0.12255' '0' ... '0.5307' '0' 'AiinI']\n",
      " ['0.021531' '0.062201' '0' ... '0.52366' '0' 'AiinI']\n",
      " ['0' '0.046154' '0.076923' ... '0.5173' '0' 'AiinI']\n",
      " ...\n",
      " ['0' '0' '0.038889' ... '0.52376' '0' 'ZadI']\n",
      " ['0' '0.052941' '0' ... '0.55084' '0' 'ZadI']\n",
      " ['0' '0' '0' ... '0.52537' '0' 'ZadI']]\n"
     ]
    }
   ],
   "source": [
    "filename = 'Dataset.txt'\n",
    "data = np.loadtxt(filename, delimiter=',', skiprows=1, dtype=str)\n",
    "print(data)"
   ]
  },
  {
   "cell_type": "markdown",
   "id": "67622486",
   "metadata": {},
   "source": [
    "# 2.Preprocessing"
   ]
  },
  {
   "cell_type": "markdown",
   "id": "4a8306cd",
   "metadata": {},
   "source": [
    "#Save images into array"
   ]
  },
  {
   "cell_type": "code",
   "execution_count": 16,
   "id": "7a5d61a3",
   "metadata": {},
   "outputs": [],
   "source": [
    "x=data[:,:-1]\n",
    "y=data[:,-1]"
   ]
  },
  {
   "cell_type": "code",
   "execution_count": 17,
   "id": "5fa0e191",
   "metadata": {},
   "outputs": [],
   "source": [
    "z=np.array(x)\n",
    "Y=np.array(y)"
   ]
  },
  {
   "cell_type": "markdown",
   "id": "e20e6251",
   "metadata": {},
   "source": [
    "# 3.Split dataset"
   ]
  },
  {
   "cell_type": "code",
   "execution_count": 18,
   "id": "ee116b7e",
   "metadata": {},
   "outputs": [],
   "source": [
    "# In the first step we will split the data in training and remaining set\n",
    "X_train, X_rem, y_train, y_rem = train_test_split(x,Y, train_size=0.3)"
   ]
  },
  {
   "cell_type": "code",
   "execution_count": 19,
   "id": "ba2719b7",
   "metadata": {},
   "outputs": [],
   "source": [
    "X_pool, X_test, y_pool, y_test = train_test_split(X_rem,y_rem, test_size=0.5)"
   ]
  },
  {
   "cell_type": "code",
   "execution_count": 20,
   "id": "fe1f845a",
   "metadata": {},
   "outputs": [
    {
     "name": "stdout",
     "output_type": "stream",
     "text": [
      "(1679, 31)\n",
      "(1679,)\n",
      "(1960, 31)\n",
      "(1960,)\n",
      "(1960, 31)\n",
      "(1960,)\n"
     ]
    },
    {
     "data": {
      "text/plain": [
       "(None, None)"
      ]
     },
     "execution_count": 20,
     "metadata": {},
     "output_type": "execute_result"
    }
   ],
   "source": [
    "print(X_train.shape), print(y_train.shape)\n",
    "print(X_pool.shape), print(y_pool.shape)\n",
    "print(X_test.shape), print(y_test.shape)"
   ]
  },
  {
   "cell_type": "markdown",
   "id": "a809621a",
   "metadata": {},
   "source": [
    "# 4.Build and train the learner"
   ]
  },
  {
   "cell_type": "code",
   "execution_count": 21,
   "id": "8bbc68f5",
   "metadata": {},
   "outputs": [],
   "source": [
    "learner = ActiveLearner(\n",
    "    estimator=RandomForestClassifier(),\n",
    "    query_strategy=uncertainty_sampling,\n",
    "    X_training=X_train, y_training=y_train\n",
    ")"
   ]
  },
  {
   "cell_type": "markdown",
   "id": "91e94223",
   "metadata": {},
   "source": [
    "#defining a function for evaluating the model"
   ]
  },
  {
   "cell_type": "code",
   "execution_count": 23,
   "id": "af14ee3d",
   "metadata": {},
   "outputs": [],
   "source": [
    "def evaluation(model):\n",
    "    model.fit(X_train,y_train)\n",
    "    ypred= model.predict(X_test)\n",
    "    print(confusion_matrix(y_test,ypred))\n",
    "    print(classification_report(y_test,ypred))\n",
    "    print(ypred)"
   ]
  },
  {
   "cell_type": "code",
   "execution_count": 24,
   "id": "89744d15",
   "metadata": {},
   "outputs": [
    {
     "name": "stdout",
     "output_type": "stream",
     "text": [
      "[[69  0  0  0  0  0  0  0  0  0  0  9  0  2  0  1  0  0  0  0  0  1  0  0\n",
      "   0  0  0  0]\n",
      " [ 0 77  0  0  0  0  0  0  0  0  0  0  0  0  0  0  0  0  0  0  0  0  0  0\n",
      "   0  0  0  0]\n",
      " [ 0  0 81  0  0  0  0  0  0  0  0  0  0  0  0  0  0  0  0  0  0  0  1  0\n",
      "   0  0  2  0]\n",
      " [ 0  0  0 54  3  0  1  0  1  0  0  0  0  0  0  0  0  1  0  0  1  0  2  0\n",
      "   0  0  0  0]\n",
      " [ 0  0  0  2 69  0  0  0  0  0  0  0  0  0  0  0  0  0  0  0  0  0  0  0\n",
      "   0  0  0  0]\n",
      " [ 0  0  0  0  0 55  0  0  0  0  0  0  0  0  0  2  0  0  4  0  0  0  0  0\n",
      "   0  0  0  0]\n",
      " [ 0  0  0  0  2  0 65  0  0  0  0  0  0  0  0  0  0  0  0  0  0  0  0  0\n",
      "   1  0  0  0]\n",
      " [ 0  0  0  0  0  0  0 73  0  0  0  0  0  0  0  0  0  1  0  0  0  0  0  0\n",
      "   0  0  0  1]\n",
      " [ 0  0  0  3  0  0  1  0 64  0  0  0  0  0  0  0  0  1  0  0  0  0  0  0\n",
      "   0  0  0  0]\n",
      " [ 0  0  0  0  0  0  0  0  0 50  0  0  0  0 11  0  0  0  0  0  0  0  0  0\n",
      "   0  0  0  0]\n",
      " [ 0  0  0  0  0  0  0  0  0  0 66  0  0  0  0  0  0  0  0  0  0  0  0  0\n",
      "   0  0  0  0]\n",
      " [ 4  0  0  0  0  0  0  0  0  0  0 67  0  0  0  0  0  0  0  0  0  0  0  0\n",
      "   0  0  0  0]\n",
      " [ 0  0  0  0  0  0  0  0  0  0  0  0 59  0  1  0  0  0  0  0  0  0  0  0\n",
      "   0  0  0  0]\n",
      " [ 0  0  0  0  0  0  0  0  0  0  0  0  0 81  0  0  0  0  0  0  0  0  0  0\n",
      "   0  0  0  0]\n",
      " [ 0  0  0  0  0  0  0  0  0 12  0  0  3  0 44  0  0  0  0  0  0  0  0  0\n",
      "   0  0  0  0]\n",
      " [ 0  0  0  0  0  1  0  0  0  0  0  0  0  0  0 61  0  0  5  0  0  0  0  0\n",
      "   0  0  0  0]\n",
      " [ 0  0  0  0  0  0  0  0  0  0  0  0  0  0  0  0 73  0  0  0  0  0  0  0\n",
      "   0  0  0  0]\n",
      " [ 0  0  0  0  0  0  0  1  0  0  0  0  0  0  0  0  0 72  0  0  0  0  0  0\n",
      "   0  0  0  0]\n",
      " [ 0  0  0  0  0  2  0  0  0  0  0  0  0  0  0  4  0  0 72  0  0  0  0  0\n",
      "   0  0  0  0]\n",
      " [ 0  0  0  0  0  0  0  0  0  0  0  0  0  0  0  0  0  0  0 69  0  0  0  0\n",
      "   0  0  0  0]\n",
      " [ 0  0  0  0  0  0  0  0  0  0  0  0  0  0  0  0  0  0  0  0 65  0  0  0\n",
      "   0  0  1  0]\n",
      " [ 0  0  0  0  0  0  0  0  0  0  0  0  0  0  0  1  0  0  0  0  0 69  0  0\n",
      "   0  0  0  0]\n",
      " [ 0  0  0  0  0  0  0  0  0  0  0  0  0  0  0  0  0  8  0  0  0  0 67  1\n",
      "   0  0  0  0]\n",
      " [ 0  0  0  0  0  0  0  0  0  0  0  0  0  0  1  0  0  0  0  0  0  0  0 57\n",
      "   0  0  0  0]\n",
      " [ 0  0  0  0  0  0  1  0  0  0  0  0  0  0  0  0  0  0  0  0  0  0  0  0\n",
      "  75  0  0  0]\n",
      " [ 0  0  0  0  0  0  0  0  0  0  1  0  0  0  0  0  0  0  1  1  0  0  0  0\n",
      "   1 66  0  0]\n",
      " [ 0  0  0  0  0  0  0  0  0  0  0  0  1  0  0  0  0  0  0  0  0  0  0  0\n",
      "   0  0 62  0]\n",
      " [ 0  0  0  0  0  0  0  2  0  0  0  0  0  0  0  0  0  0  0  0  0  0  0  0\n",
      "   0  0  0 71]]\n",
      "              precision    recall  f1-score   support\n",
      "\n",
      "       AiinI       0.95      0.84      0.89        82\n",
      "       AlifI       1.00      1.00      1.00        77\n",
      "        BaaI       1.00      0.96      0.98        84\n",
      "       CaafI       0.92      0.86      0.89        63\n",
      "        DadI       0.93      0.97      0.95        71\n",
      "        DalI       0.95      0.90      0.92        61\n",
      "        DhaI       0.96      0.96      0.96        68\n",
      "       DhelI       0.96      0.97      0.97        75\n",
      "        FaaI       0.98      0.93      0.96        69\n",
      "      GhiinI       0.81      0.82      0.81        61\n",
      "         HaI       0.99      1.00      0.99        66\n",
      "        HaaI       0.88      0.94      0.91        71\n",
      "       JiimI       0.94      0.98      0.96        60\n",
      "        KafI       0.98      1.00      0.99        81\n",
      "       KhaaI       0.77      0.75      0.76        59\n",
      "        LamI       0.88      0.91      0.90        67\n",
      "       MiimI       1.00      1.00      1.00        73\n",
      "       NounI       0.87      0.99      0.92        73\n",
      "        RaaI       0.88      0.92      0.90        78\n",
      "        SadI       0.99      1.00      0.99        69\n",
      "      ShiinI       0.98      0.98      0.98        66\n",
      "       SiinI       0.99      0.99      0.99        70\n",
      "        TaaI       0.96      0.88      0.92        76\n",
      "        ThaI       0.98      0.98      0.98        58\n",
      "       ThaaI       0.97      0.99      0.98        76\n",
      "        WawI       1.00      0.94      0.97        70\n",
      "        YaaI       0.95      0.98      0.97        63\n",
      "        ZadI       0.99      0.97      0.98        73\n",
      "\n",
      "    accuracy                           0.95      1960\n",
      "   macro avg       0.94      0.94      0.94      1960\n",
      "weighted avg       0.95      0.95      0.95      1960\n",
      "\n",
      "['HaI' 'AlifI' 'SiinI' ... 'KafI' 'ShiinI' 'ThaaI']\n"
     ]
    }
   ],
   "source": [
    "evaluation(learner)"
   ]
  },
  {
   "cell_type": "code",
   "execution_count": 25,
   "id": "2aeafa81",
   "metadata": {},
   "outputs": [
    {
     "name": "stdout",
     "output_type": "stream",
     "text": [
      "Accuracy after query 3: 0.9630\n",
      "Accuracy after query 4: 0.9650\n",
      "Accuracy after query 5: 0.9648\n",
      "Accuracy after query 6: 0.9641\n",
      "Accuracy after query 7: 0.9648\n",
      "Accuracy after query 8: 0.9654\n",
      "Accuracy after query 9: 0.9657\n",
      "Accuracy after query 10: 0.9646\n",
      "Accuracy after query 11: 0.9662\n",
      "Accuracy after query 12: 0.9645\n",
      "Accuracy after query 13: 0.9655\n",
      "Accuracy after query 14: 0.9643\n",
      "Accuracy after query 15: 0.9657\n",
      "Accuracy after query 16: 0.9648\n",
      "Accuracy after query 17: 0.9664\n",
      "Accuracy after query 18: 0.9671\n",
      "Accuracy after query 19: 0.9666\n",
      "Accuracy after query 20: 0.9679\n",
      "Accuracy after query 21: 0.9662\n",
      "Accuracy after query 22: 0.9654\n",
      "Accuracy after query 23: 0.9668\n",
      "Accuracy after query 24: 0.9677\n",
      "Accuracy after query 25: 0.9657\n",
      "Accuracy after query 26: 0.9677\n",
      "Accuracy after query 27: 0.9664\n",
      "Accuracy after query 28: 0.9664\n",
      "Accuracy after query 29: 0.9680\n",
      "Accuracy after query 30: 0.9666\n",
      "Accuracy after query 31: 0.9639\n",
      "Accuracy after query 32: 0.9691\n",
      "Accuracy after query 33: 0.9670\n",
      "Accuracy after query 34: 0.9679\n",
      "Accuracy after query 35: 0.9668\n",
      "Accuracy after query 36: 0.9662\n",
      "Accuracy after query 37: 0.9684\n",
      "Accuracy after query 38: 0.9675\n",
      "Accuracy after query 39: 0.9691\n",
      "Accuracy after query 40: 0.9680\n",
      "Accuracy after query 41: 0.9686\n",
      "Accuracy after query 42: 0.9693\n",
      "Accuracy after query 43: 0.9684\n",
      "Accuracy after query 44: 0.9679\n",
      "Accuracy after query 45: 0.9693\n",
      "Accuracy after query 46: 0.9680\n",
      "Accuracy after query 47: 0.9661\n",
      "Accuracy after query 48: 0.9684\n",
      "Accuracy after query 49: 0.9677\n",
      "Accuracy after query 50: 0.9696\n",
      "Accuracy after query 51: 0.9686\n",
      "Accuracy after query 52: 0.9689\n",
      "Accuracy after query 53: 0.9680\n",
      "Accuracy after query 54: 0.9679\n",
      "Accuracy after query 55: 0.9687\n",
      "Accuracy after query 56: 0.9695\n",
      "Accuracy after query 57: 0.9698\n",
      "Accuracy after query 58: 0.9700\n",
      "Accuracy after query 59: 0.9684\n",
      "Accuracy after query 60: 0.9682\n",
      "Accuracy after query 61: 0.9698\n",
      "Accuracy after query 62: 0.9691\n",
      "Accuracy after query 63: 0.9670\n",
      "Accuracy after query 64: 0.9668\n",
      "Accuracy after query 65: 0.9702\n",
      "Accuracy after query 66: 0.9686\n",
      "Accuracy after query 67: 0.9709\n",
      "Accuracy after query 68: 0.9691\n",
      "Accuracy after query 69: 0.9684\n",
      "Accuracy after query 70: 0.9707\n",
      "Accuracy after query 71: 0.9702\n",
      "Accuracy after query 72: 0.9679\n",
      "Accuracy after query 73: 0.9695\n",
      "Accuracy after query 74: 0.9707\n",
      "Accuracy after query 75: 0.9704\n",
      "Accuracy after query 76: 0.9704\n",
      "Accuracy after query 77: 0.9704\n",
      "Accuracy after query 78: 0.9696\n",
      "Accuracy after query 79: 0.9698\n",
      "Accuracy after query 80: 0.9693\n",
      "Accuracy after query 81: 0.9702\n",
      "Accuracy after query 82: 0.9687\n",
      "Accuracy after query 83: 0.9700\n",
      "Accuracy after query 84: 0.9725\n",
      "Accuracy after query 85: 0.9698\n",
      "Accuracy after query 86: 0.9702\n",
      "Accuracy after query 87: 0.9705\n",
      "Accuracy after query 88: 0.9700\n",
      "Accuracy after query 89: 0.9691\n",
      "Accuracy after query 90: 0.9700\n",
      "Accuracy after query 91: 0.9704\n",
      "Accuracy after query 92: 0.9712\n",
      "Accuracy after query 93: 0.9714\n",
      "Accuracy after query 94: 0.9709\n",
      "Accuracy after query 95: 0.9695\n",
      "Accuracy after query 96: 0.9704\n",
      "Accuracy after query 97: 0.9718\n",
      "Accuracy after query 98: 0.9705\n",
      "Accuracy after query 99: 0.9739\n",
      "Accuracy after query 100: 0.9711\n",
      "Accuracy after query 101: 0.9720\n",
      "Accuracy after query 102: 0.9705\n",
      "Accuracy after query 103: 0.9727\n",
      "Accuracy after query 104: 0.9704\n",
      "Accuracy after query 105: 0.9709\n",
      "Accuracy after query 106: 0.9725\n",
      "Accuracy after query 107: 0.9736\n",
      "Accuracy after query 108: 0.9704\n",
      "Accuracy after query 109: 0.9721\n",
      "Accuracy after query 110: 0.9729\n",
      "Accuracy after query 111: 0.9709\n",
      "Accuracy after query 112: 0.9730\n",
      "Accuracy after query 113: 0.9734\n",
      "Accuracy after query 114: 0.9727\n",
      "Accuracy after query 115: 0.9727\n",
      "Accuracy after query 116: 0.9712\n",
      "Accuracy after query 117: 0.9748\n",
      "Accuracy after query 118: 0.9730\n",
      "Accuracy after query 119: 0.9729\n",
      "Accuracy after query 120: 0.9718\n",
      "Accuracy after query 121: 0.9721\n",
      "Accuracy after query 122: 0.9725\n",
      "Accuracy after query 123: 0.9723\n",
      "Accuracy after query 124: 0.9729\n",
      "Accuracy after query 125: 0.9736\n",
      "Accuracy after query 126: 0.9721\n",
      "Accuracy after query 127: 0.9757\n",
      "Accuracy after query 128: 0.9729\n",
      "Accuracy after query 129: 0.9746\n",
      "Accuracy after query 130: 0.9737\n",
      "Accuracy after query 131: 0.9743\n",
      "Accuracy after query 132: 0.9743\n",
      "Accuracy after query 133: 0.9748\n",
      "Accuracy after query 134: 0.9743\n",
      "Accuracy after query 135: 0.9737\n",
      "Accuracy after query 136: 0.9754\n",
      "Accuracy after query 137: 0.9737\n",
      "Accuracy after query 138: 0.9764\n",
      "Accuracy after query 139: 0.9745\n",
      "Accuracy after query 140: 0.9746\n",
      "Accuracy after query 141: 0.9755\n",
      "Accuracy after query 142: 0.9739\n",
      "Accuracy after query 143: 0.9752\n",
      "Accuracy after query 144: 0.9768\n",
      "Accuracy after query 145: 0.9759\n",
      "Accuracy after query 146: 0.9741\n",
      "Accuracy after query 147: 0.9750\n",
      "Accuracy after query 148: 0.9752\n",
      "Accuracy after query 149: 0.9755\n",
      "Accuracy after query 150: 0.9770\n",
      "Accuracy after query 151: 0.9750\n",
      "Accuracy after query 152: 0.9743\n",
      "Accuracy after query 153: 0.9761\n",
      "Accuracy after query 154: 0.9762\n",
      "Accuracy after query 155: 0.9750\n",
      "Accuracy after query 156: 0.9752\n",
      "Accuracy after query 157: 0.9762\n",
      "Accuracy after query 158: 0.9739\n",
      "Accuracy after query 159: 0.9759\n",
      "Accuracy after query 160: 0.9748\n",
      "Accuracy after query 161: 0.9764\n",
      "Accuracy after query 162: 0.9745\n",
      "Accuracy after query 163: 0.9759\n",
      "Accuracy after query 164: 0.9746\n",
      "Accuracy after query 165: 0.9752\n",
      "Accuracy after query 166: 0.9759\n",
      "Accuracy after query 167: 0.9743\n",
      "Accuracy after query 168: 0.9755\n",
      "Accuracy after query 169: 0.9752\n",
      "Accuracy after query 170: 0.9752\n",
      "Accuracy after query 171: 0.9746\n",
      "Accuracy after query 172: 0.9755\n",
      "Accuracy after query 173: 0.9761\n",
      "Accuracy after query 174: 0.9743\n",
      "Accuracy after query 175: 0.9754\n",
      "Accuracy after query 176: 0.9764\n",
      "Accuracy after query 177: 0.9743\n",
      "Accuracy after query 178: 0.9766\n",
      "Accuracy after query 179: 0.9746\n",
      "Accuracy after query 180: 0.9764\n",
      "Accuracy after query 181: 0.9757\n",
      "Accuracy after query 182: 0.9748\n",
      "Accuracy after query 183: 0.9761\n",
      "Accuracy after query 184: 0.9777\n",
      "Accuracy after query 185: 0.9770\n",
      "Accuracy after query 186: 0.9768\n",
      "Accuracy after query 187: 0.9773\n",
      "Accuracy after query 188: 0.9768\n",
      "Accuracy after query 189: 0.9770\n",
      "Accuracy after query 190: 0.9762\n",
      "Accuracy after query 191: 0.9752\n",
      "Accuracy after query 192: 0.9775\n",
      "Accuracy after query 193: 0.9764\n",
      "Accuracy after query 194: 0.9761\n",
      "Accuracy after query 195: 0.9757\n",
      "Accuracy after query 196: 0.9773\n",
      "Accuracy after query 197: 0.9784\n",
      "Accuracy after query 198: 0.9779\n",
      "Accuracy after query 199: 0.9782\n",
      "Accuracy after query 200: 0.9761\n",
      "Accuracy after query 201: 0.9766\n",
      "Accuracy after query 202: 0.9773\n",
      "Accuracy after query 203: 0.9782\n",
      "Accuracy after query 204: 0.9761\n",
      "Accuracy after query 205: 0.9770\n",
      "Accuracy after query 206: 0.9775\n",
      "Accuracy after query 207: 0.9759\n",
      "Accuracy after query 208: 0.9761\n",
      "Accuracy after query 209: 0.9768\n",
      "Accuracy after query 210: 0.9771\n",
      "Accuracy after query 211: 0.9793\n",
      "Accuracy after query 212: 0.9766\n",
      "Accuracy after query 213: 0.9771\n",
      "Accuracy after query 214: 0.9777\n",
      "Accuracy after query 215: 0.9782\n",
      "Accuracy after query 216: 0.9762\n",
      "Accuracy after query 217: 0.9786\n",
      "Accuracy after query 218: 0.9786\n",
      "Accuracy after query 219: 0.9780\n",
      "Accuracy after query 220: 0.9770\n",
      "Accuracy after query 221: 0.9770\n",
      "Accuracy after query 222: 0.9780\n",
      "Accuracy after query 223: 0.9775\n",
      "Accuracy after query 224: 0.9771\n",
      "Accuracy after query 225: 0.9782\n",
      "Accuracy after query 226: 0.9773\n",
      "Accuracy after query 227: 0.9780\n",
      "Accuracy after query 228: 0.9780\n",
      "Accuracy after query 229: 0.9773\n",
      "Accuracy after query 230: 0.9773\n",
      "Accuracy after query 231: 0.9784\n",
      "Accuracy after query 232: 0.9802\n"
     ]
    }
   ],
   "source": [
    "model_accuracy = 0.95\n",
    "n=1\n",
    "performance_history = []\n",
    "\n",
    "# Allow our model to query our unlabeled dataset for the most\n",
    "# informative points according to our query strategy (uncertainty sampling).\n",
    "while model_accuracy<=0.98:\n",
    "    n=n+1\n",
    "    query_index, query_instance = learner.query(X_pool)\n",
    "\n",
    "  # Teach our ActiveLearner model the record it has requested.\n",
    "    X, y = X_pool[query_index].reshape(1, -1), y_pool[query_index].reshape(1, )\n",
    "    learner.teach(X=X, y=y)\n",
    "\n",
    "  # Remove the queried instance from the unlabeled pool.\n",
    "    X_pool, y_pool = np.delete(X_pool, query_index, axis=0), np.delete(y_pool, query_index)\n",
    "\n",
    "  # Calculate and report our model's accuracy.\n",
    "    model_accuracy = learner.score(z,Y)\n",
    "    print('Accuracy after query {n}: {acc:0.4f}'.format(n=n+1, acc=model_accuracy))\n",
    "\n",
    "  # Save our model's performance for plotting.\n",
    "    performance_history.append(model_accuracy)"
   ]
  },
  {
   "cell_type": "code",
   "execution_count": 26,
   "id": "e1b4ea69",
   "metadata": {},
   "outputs": [
    {
     "data": {
      "image/png": "[encoded data removed]",
      "text/plain": [
       "<Figure size 720x480 with 1 Axes>"
      ]
     },
     "metadata": {
      "needs_background": "light"
     },
     "output_type": "display_data"
    }
   ],
   "source": [
    "# Plot our performance over time.\n",
    "fig, ax = plt.subplots(figsize=(6, 4), dpi=120)\n",
    "\n",
    "ax.plot(performance_history)\n",
    "ax.scatter(range(len(performance_history)), performance_history, s=13)\n",
    "\n",
    "ax.xaxis.set_major_locator(mpl.ticker.MaxNLocator(nbins=5, integer=True))\n",
    "ax.yaxis.set_major_locator(mpl.ticker.MaxNLocator(nbins=2))\n",
    "ax.yaxis.set_major_formatter(mpl.ticker.PercentFormatter(xmax=1))\n",
    "\n",
    "ax.set_ylim(bottom=0.95,top=1)\n",
    "ax.grid(True)\n",
    "\n",
    "ax.set_title('Incremental classification accuracy')\n",
    "ax.set_xlabel('Query iteration')\n",
    "ax.set_ylabel('Classification Accuracy')\n",
    "plt.savefig(\"accuracy.png\")\n",
    "plt.show()"
   ]
  },
  {
   "cell_type": "code",
   "execution_count": 28,
   "id": "45a46d51",
   "metadata": {},
   "outputs": [
    {
     "name": "stdout",
     "output_type": "stream",
     "text": [
      "Classification accuracy after 231 queries: 0.980\n"
     ]
    }
   ],
   "source": [
    "print('Classification accuracy after {n} queries: {final_acc:.3f}'.format(n=n, final_acc=performance_history[-1]))\n"
   ]
  },
  {
   "cell_type": "code",
   "execution_count": null,
   "id": "40af21ad",
   "metadata": {},
   "outputs": [],
   "source": []
  }
 ],
 "metadata": {
  "kernelspec": {
   "display_name": "Python 3 (ipykernel)",
   "language": "python",
   "name": "python3"
  },
  "language_info": {
   "codemirror_mode": {
    "name": "ipython",
    "version": 3
   },
   "file_extension": ".py",
   "mimetype": "text/x-python",
   "name": "python",
   "nbconvert_exporter": "python",
   "pygments_lexer": "ipython3",
   "version": "3.11.5"
  }
 },
 "nbformat": 4,
 "nbformat_minor": 5
}
